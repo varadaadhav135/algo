{
 "cells": [
  {
   "cell_type": "code",
   "execution_count": 1,
   "id": "0e6ca40a-723a-4f76-bb9a-4c44a8bc12fb",
   "metadata": {},
   "outputs": [],
   "source": [
    "from fyers_apiv3 import fyersModel"
   ]
  },
  {
   "cell_type": "code",
   "execution_count": 2,
   "id": "064b50a7-a0bc-432d-9625-d82db131233a",
   "metadata": {},
   "outputs": [
    {
     "name": "stdout",
     "output_type": "stream",
     "text": [
      "https://api-t1.fyers.in/api/v3/generate-authcode?client_id=17NRCJWB0H-100&redirect_uri=https%3A%2F%2F9cc0-106-213-83-154.ngrok-free.app&response_type=code&state=sample_state\n"
     ]
    }
   ],
   "source": [
    "# Replace these values with your actual API credentials\n",
    "redirect_uri = \"https://9cc0-106-213-83-154.ngrok-free.app\"\n",
    "client_id = \"17NRCJWB0H-100\"\n",
    "secret_key = \"E28DAAIIND\"\n",
    "grant_type = \"authorization_code\"\n",
    "response_type = \"code\"  \n",
    "state = \"sample_state\"\n",
    "\n",
    "# Create a session model with the provided credentials\n",
    "session = fyersModel.SessionModel(\n",
    "    client_id=client_id,\n",
    "    redirect_uri=redirect_uri,\n",
    "    response_type=response_type,\n",
    "    state=state,    \n",
    "    secret_key=secret_key,\n",
    "    grant_type=grant_type\n",
    ")\n",
    "\n",
    "# Generate the auth code using the session model\n",
    "response = session.generate_authcode()\n",
    "\n",
    "# Print the auth code received in the response\n",
    "print(response)"
   ]
  },
  {
   "cell_type": "code",
   "execution_count": 5,
   "id": "c122e503-6cc8-4fb5-890e-b9538a2dbfbb",
   "metadata": {},
   "outputs": [],
   "source": [
    "auth_code = \"eyJhbGciOiJIUzI1NiIsInR5cCI6IkpXVCJ9.eyJhcHBfaWQiOiIxN05SQ0pXQjBIIiwidXVpZCI6ImZkZmFkMTc0OGE4YzQ0YTdhMDdhZjA3NTNlOTM2YTg2IiwiaXBBZGRyIjoiIiwibm9uY2UiOiIiLCJzY29wZSI6IiIsImRpc3BsYXlfbmFtZSI6IkZBQTA1ODIwIiwib21zIjoiSzEiLCJoc21fa2V5IjoiMTY3YzkwNDFlOTU2NTg3NWYxMjFmMWJmYzBiNmI0MTk2MDdkZjYyNjg3NGZkYTM2YjY1MTA1M2IiLCJpc0RkcGlFbmFibGVkIjoiTiIsImlzTXRmRW5hYmxlZCI6Ik4iLCJhdWQiOiJbXCJkOjFcIixcImQ6MlwiLFwieDowXCIsXCJ4OjFcIixcIng6MlwiXSIsImV4cCI6MTc1NjU3OTYxOSwiaWF0IjoxNzU2NTQ5NjE5LCJpc3MiOiJhcGkubG9naW4uZnllcnMuaW4iLCJuYmYiOjE3NTY1NDk2MTksInN1YiI6ImF1dGhfY29kZSJ9.1clM0BiS63A2LOqQfnsybBMNvU_8JcNygGnpeSwoUGk\"\n",
    "session.set_token(auth_code)\n",
    "response = session.generate_token()\n",
    "\n",
    "try: \n",
    "    access_token = response[\"access_token\"]\n",
    "except Exception as e:\n",
    "    print(e,response)"
   ]
  },
  {
   "cell_type": "code",
   "execution_count": 6,
   "id": "74b67b35-fc21-4ce9-951f-0980a6eb3b1d",
   "metadata": {},
   "outputs": [
    {
     "name": "stdout",
     "output_type": "stream",
     "text": [
      "eyJhbGciOiJIUzI1NiIsInR5cCI6IkpXVCJ9.eyJhdWQiOlsiZDoxIiwiZDoyIiwieDowIiwieDoxIiwieDoyIl0sImF0X2hhc2giOiJnQUFBQUFCb3N0SlpRczZGOWFkTEFWaFdGQzJ2cFRPYW5xY2JWLURTTDkweVhWODA3UVVGRWpCZGc2X2o1QnZlX2xaa0pObzZfb3hqNFpTUTZ3MTkxRzZoTG5vTXFPY08weW9RUjVfc0dETm1aT3BMaUlHV3lNND0iLCJkaXNwbGF5X25hbWUiOiIiLCJvbXMiOiJLMSIsImhzbV9rZXkiOiIxNjdjOTA0MWU5NTY1ODc1ZjEyMWYxYmZjMGI2YjQxOTYwN2RmNjI2ODc0ZmRhMzZiNjUxMDUzYiIsImlzRGRwaUVuYWJsZWQiOiJOIiwiaXNNdGZFbmFibGVkIjoiTiIsImZ5X2lkIjoiRkFBMDU4MjAiLCJhcHBUeXBlIjoxMDAsImV4cCI6MTc1NjYwMDIwMCwiaWF0IjoxNzU2NTQ5NzIxLCJpc3MiOiJhcGkuZnllcnMuaW4iLCJuYmYiOjE3NTY1NDk3MjEsInN1YiI6ImFjY2Vzc190b2tlbiJ9.h2RbzAm9BDXRQHowKNYa-LgkJ79oEmpQMF0B1g6CA5I\n"
     ]
    }
   ],
   "source": [
    "print(access_token)"
   ]
  },
  {
   "cell_type": "code",
   "execution_count": 7,
   "id": "6550c04c-fbc4-4021-bc28-e73355700e2e",
   "metadata": {},
   "outputs": [],
   "source": [
    "fyers = fyersModel.FyersModel(token=access_token,is_async=False,client_id=client_id,log_path=\"\")"
   ]
  },
  {
   "cell_type": "code",
   "execution_count": 12,
   "id": "f412209a-9c74-4c87-b719-4e9585915dce",
   "metadata": {},
   "outputs": [],
   "source": [
    "import datetime\n",
    "referenceTime = datetime.datetime(2025, 8, 18, 9, 30, 0, 0)\n",
    "from fyers_apiv3.FyersWebsocket import data_ws"
   ]
  },
  {
   "cell_type": "code",
   "execution_count": 13,
   "id": "c28b9c49-3bc8-49e5-b1f2-348b843bb299",
   "metadata": {},
   "outputs": [],
   "source": [
    "def onmessage(message):\n",
    "    if 'ltp' not in message.keys():\n",
    "        return\n",
    "    \n",
    "    #time = datetime.datetime.fromtimestamp(message['last_traded_time']/1000.0)\n",
    "\n",
    "    # print(time)\n",
    "\n",
    "    if datetime.datetime.now().time() > referenceTime.time():\n",
    "        if message['ltp'] > message['open_price']+(message['open_price']*0.01):\n",
    "            print(message['symbol'],\"Put Buy Trade\")\n",
    "        elif message['ltp'] < message['open_price']-(message['open_price']*0.01):\n",
    "            print(message['symbol'],\"Put Sell Trade\")\n",
    "        else:\n",
    "            print(message['symbol'],\"Not Tradable\")\n",
    "\n",
    "    \n",
    "    \n",
    "\n",
    "def onerror(message):\n",
    "    \"\"\"\n",
    "    Callback function to handle WebSocket errors.\n",
    "\n",
    "    Parameters:\n",
    "        message (dict): The error message received from the WebSocket.\n",
    "\n",
    "\n",
    "    \"\"\"\n",
    "    print(\"Error:\", message)\n",
    "\n",
    "\n",
    "def onclose(message):\n",
    "    \"\"\"\n",
    "    Callback function to handle WebSocket connection close events.\n",
    "    \"\"\"\n",
    "    print(\"Connection closed:\", message)\n",
    "\n",
    "\n",
    "def onopen():\n",
    "    \"\"\"\n",
    "    Callback function to subscribe to data type and symbols upon WebSocket connection.\n",
    "\n",
    "    \"\"\"\n",
    "    # Specify the data type and symbols you want to subscribe to\n",
    "    data_type = \"SymbolUpdate\"\n",
    "    # data_type = \"DepthUpdate\"\n",
    "\n",
    "\n",
    "    # Subscribe to the specified symbols and data type\n",
    "    symbols = ['NSE:ADANIENT-EQ','NSE:ADANIPORTS-EQ','NSE:APOLLOHOSP-EQ','NSE:ASIANPAINT-EQ','NSE:AXISBANK-EQ','NSE:MARUTI-EQ']\n",
    "    fyers.subscribe(symbols=symbols, data_type=data_type)\n",
    "\n",
    "    # Keep the socket running to receive real-time data\n",
    "    fyers.keep_running()"
   ]
  },
  {
   "cell_type": "code",
   "execution_count": 14,
   "id": "f339b7df-619a-4934-97d8-a6283b3b08dc",
   "metadata": {},
   "outputs": [
    {
     "name": "stdout",
     "output_type": "stream",
     "text": [
      "NSE:MARUTI-EQ Not Tradable\n",
      "NSE:AXISBANK-EQ Not Tradable\n",
      "NSE:ADANIENT-EQ Put Sell Trade\n",
      "NSE:ADANIPORTS-EQ Not Tradable\n",
      "NSE:ASIANPAINT-EQ Put Buy Trade\n",
      "NSE:APOLLOHOSP-EQ Not Tradable\n",
      "Connection closed: {'code': 200, 'message': 'Connection Closed', 's': 'ok'}\n"
     ]
    }
   ],
   "source": [
    "ws_access_token = \"17NRCJWB0H-100:\"+access_token\n",
    "\n",
    "fyers = data_ws.FyersDataSocket(\n",
    "    access_token=ws_access_token,       # Access token in the format \"appid:accesstoken\"\n",
    "    log_path=\"\",                     # Path to save logs. Leave empty to auto-create logs in the current directory.\n",
    "    litemode=False,                  # Lite mode disabled. Set to True if you want a lite response.\n",
    "    write_to_file=False,              # Save response in a log file instead of printing it.\n",
    "    reconnect=True,                  # Enable auto-reconnection to WebSocket on disconnection.\n",
    "    on_connect=onopen,               # Callback function to subscribe to data upon connection.\n",
    "    on_close=onclose,                # Callback function to handle WebSocket connection close events.\n",
    "    on_error=onerror,                # Callback function to handle WebSocket errors.\n",
    "    on_message=onmessage             # Callback function to handle incoming messages from the WebSocket.\n",
    ")\n",
    "\n",
    "# Establish a connection to the Fyers WebSocket\n",
    "fyers.connect()"
   ]
  },
  {
   "cell_type": "code",
   "execution_count": 15,
   "id": "63e77ca0-a9ac-423b-bcdb-3715f2c849d2",
   "metadata": {},
   "outputs": [],
   "source": [
    "fyers.close_connection()"
   ]
  },
  {
   "cell_type": "code",
   "execution_count": null,
   "id": "e1b68a3a-80b9-4d43-96ca-36d5ebed0c69",
   "metadata": {},
   "outputs": [],
   "source": []
  }
 ],
 "metadata": {
  "kernelspec": {
   "display_name": "Python 3 (ipykernel)",
   "language": "python",
   "name": "python3"
  },
  "language_info": {
   "codemirror_mode": {
    "name": "ipython",
    "version": 3
   },
   "file_extension": ".py",
   "mimetype": "text/x-python",
   "name": "python",
   "nbconvert_exporter": "python",
   "pygments_lexer": "ipython3",
   "version": "3.13.7"
  }
 },
 "nbformat": 4,
 "nbformat_minor": 5
}
